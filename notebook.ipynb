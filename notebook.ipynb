{
 "cells": [
  {
   "cell_type": "markdown",
   "metadata": {},
   "source": [
    "# Camera based vehicle detection and tracking"
   ]
  },
  {
   "cell_type": "code",
   "execution_count": 1,
   "metadata": {},
   "outputs": [],
   "source": [
    "# imports\n",
    "import os\n",
    "import numpy as np\n",
    "import cv2\n",
    "import matplotlib.pyplot as plt\n",
    "import matplotlib.image as mpimg\n",
    "from skimage.feature import hog\n",
    "import glob\n",
    "import time\n",
    "from sklearn.svm import LinearSVC\n",
    "from sklearn.preprocessing import StandardScaler\n",
    "from sklearn.model_selection import train_test_split\n",
    "\n",
    "TEST_IMAGES = 'test_images'\n",
    "OUTPUT_IMAGES = 'output_images'\n",
    "VEHICLE_EXAMPLE = r'C:\\Users\\Nassim\\Documents\\UDACITY\\VehicleDetection\\training_data\\vehicles\\KITTI_extracted\\42.png'\n",
    "NONVEHICLE_EXAMPLE = r'C:\\Users\\Nassim\\Documents\\UDACITY\\VehicleDetection\\training_data\\non-vehicles\\GTI\\image42.png'"
   ]
  },
  {
   "cell_type": "markdown",
   "metadata": {},
   "source": [
    "## Classifier"
   ]
  },
  {
   "cell_type": "code",
   "execution_count": 2,
   "metadata": {},
   "outputs": [
    {
     "name": "stdout",
     "output_type": "stream",
     "text": [
      "There are 8792 images of cars\n",
      "There are 8968 images of non-cars\n"
     ]
    }
   ],
   "source": [
    "## Data set parsing\n",
    "car_dataset = glob.glob('training_data/vehicles/**/*.png')\n",
    "noncar_dataset = glob.glob('training_data/non-vehicles/**/*.png')\n",
    "print(\"There are %d images of cars\" % len(car_dataset))\n",
    "print(\"There are %d images of non-cars\" % len(noncar_dataset) )"
   ]
  },
  {
   "cell_type": "markdown",
   "metadata": {},
   "source": [
    "### HOG features"
   ]
  },
  {
   "cell_type": "code",
   "execution_count": null,
   "metadata": {},
   "outputs": [],
   "source": [
    "def get_hog_features(img, orient=9, pix_per_cell=8, cell_per_block=2, \n",
    "                        vis=False, feature_vec=True):\n",
    "    # Call with two outputs if vis==True\n",
    "    if vis == True:\n",
    "        features, hog_image = hog(img, orientations=orient, pixels_per_cell=(pix_per_cell, pix_per_cell),\n",
    "                                  cells_per_block=(cell_per_block, cell_per_block), block_norm= 'L2-Hys',\n",
    "                                  transform_sqrt=True, \n",
    "                                  visualise=vis, feature_vector=feature_vec)\n",
    "        return features, hog_image\n",
    "    # Otherwise call with one output\n",
    "    else:      \n",
    "        features = hog(img, orientations=orient, pixels_per_cell=(pix_per_cell, pix_per_cell),\n",
    "                       cells_per_block=(cell_per_block, cell_per_block), block_norm= 'L2-Hys',\n",
    "                       transform_sqrt=True, \n",
    "                       visualise=vis, feature_vector=feature_vec)\n",
    "        return features\n",
    "    \n",
    "def extract_features(imgs, cspace='RGB', orient=9, \n",
    "                        pix_per_cell=8, cell_per_block=2, hog_channel=0):\n",
    "    # Create a list to append feature vectors to\n",
    "    features = []\n",
    "    # Iterate through the list of images\n",
    "    for file in imgs:\n",
    "        # Read in each one by one\n",
    "        image = mpimg.imread(file)\n",
    "        # apply color conversion if other than 'RGB'\n",
    "        if cspace != 'RGB':\n",
    "            if cspace == 'HSV':\n",
    "                feature_image = cv2.cvtColor(image, cv2.COLOR_RGB2HSV)\n",
    "            elif cspace == 'LUV':\n",
    "                feature_image = cv2.cvtColor(image, cv2.COLOR_RGB2LUV)\n",
    "            elif cspace == 'HLS':\n",
    "                feature_image = cv2.cvtColor(image, cv2.COLOR_RGB2HLS)\n",
    "            elif cspace == 'YUV':\n",
    "                feature_image = cv2.cvtColor(image, cv2.COLOR_RGB2YUV)\n",
    "            elif cspace == 'YCrCb':\n",
    "                feature_image = cv2.cvtColor(image, cv2.COLOR_RGB2YCrCb)\n",
    "        else: feature_image = np.copy(image)      \n",
    "\n",
    "        # Call get_hog_features() with vis=False, feature_vec=True\n",
    "        if hog_channel == 'ALL':\n",
    "            hog_features = []\n",
    "            for channel in range(feature_image.shape[2]):\n",
    "                hog_features.append(get_hog_features(feature_image[:,:,channel], \n",
    "                                    orient, pix_per_cell, cell_per_block, \n",
    "                                    vis=False, feature_vec=True))\n",
    "            hog_features = np.ravel(hog_features)        \n",
    "        else:\n",
    "            hog_features = get_hog_features(feature_image[:,:,hog_channel], orient, \n",
    "                        pix_per_cell, cell_per_block, vis=False, feature_vec=True)\n",
    "        # Append the new feature vector to the features list\n",
    "        features.append(hog_features)\n",
    "    # Return list of feature vectors\n",
    "    return features\n"
   ]
  },
  {
   "cell_type": "code",
   "execution_count": null,
   "metadata": {},
   "outputs": [],
   "source": [
    "# Read image, convert to grayscale and get HOG\n",
    "car_image = mpimg.imread(car_dataset[42])\n",
    "gray_car = cv2.cvtColor(car_image, cv2.COLOR_RGB2GRAY)\n",
    "noncar_image = mpimg.imread(noncar_dataset[42])\n",
    "gray_noncar = cv2.cvtColor(noncar_image, cv2.COLOR_RGB2GRAY)\n",
    "\n",
    "features_car, im_car = get_hog_features(gray_car, feature_vec=False, vis=True)\n",
    "features_noncar, im_noncar = get_hog_features(gray_noncar, feature_vec=False, vis=True)\n",
    "\n",
    "f, ((ax1, ax2), (ax3, ax4)) = plt.subplots(2, 2)\n",
    "f.tight_layout()\n",
    "\n",
    "ax1.imshow(car_image)\n",
    "ax1.set_title('Car Image', fontsize=10)\n",
    "ax2.imshow(im_car)\n",
    "ax2.set_title('HOG', fontsize=10)\n",
    "\n",
    "ax3.imshow(noncar_image)\n",
    "ax3.set_title('Car Image', fontsize=10)\n",
    "ax4.imshow(im_noncar)\n",
    "ax4.set_title('HOG', fontsize=10)\n",
    "\n",
    "\n",
    "plt.subplots_adjust(left=0., right=1, top=0.9, bottom=0.)\n",
    "plt.savefig('report_images/HOG1.jpg', dpi=500, bbox_inches='tight')"
   ]
  },
  {
   "cell_type": "markdown",
   "metadata": {},
   "source": [
    "#### Now let's train a classifier for the HOG features"
   ]
  },
  {
   "cell_type": "markdown",
   "metadata": {},
   "source": [
    "The code below is based from the lesson's code"
   ]
  },
  {
   "cell_type": "markdown",
   "metadata": {},
   "source": [
    "##### Set up samples"
   ]
  },
  {
   "cell_type": "code",
   "execution_count": null,
   "metadata": {},
   "outputs": [],
   "source": [
    "sample_size = 3000\n",
    "cars = car_dataset[0:sample_size]\n",
    "notcars = noncar_dataset[0:sample_size]"
   ]
  },
  {
   "cell_type": "markdown",
   "metadata": {},
   "source": [
    "##### Set parameters"
   ]
  },
  {
   "cell_type": "code",
   "execution_count": null,
   "metadata": {},
   "outputs": [],
   "source": [
    "colorspace = 'HSV' # Can be RGB, HSV, LUV, HLS, YUV, YCrCb\n",
    "orient = 9\n",
    "pix_per_cell = 8\n",
    "cell_per_block = 2\n",
    "hog_channel = 0"
   ]
  },
  {
   "cell_type": "markdown",
   "metadata": {},
   "source": [
    "##### Extract the HOG features for each data set"
   ]
  },
  {
   "cell_type": "code",
   "execution_count": null,
   "metadata": {},
   "outputs": [],
   "source": [
    "t=time.time()\n",
    "\n",
    "car_features = extract_features(cars, cspace=colorspace, orient=orient, \n",
    "                        pix_per_cell=pix_per_cell, cell_per_block=cell_per_block, \n",
    "                        hog_channel=hog_channel)\n",
    "notcar_features = extract_features(notcars, cspace=colorspace, orient=orient, \n",
    "                        pix_per_cell=pix_per_cell, cell_per_block=cell_per_block, \n",
    "                        hog_channel=hog_channel)\n",
    "\n",
    "t2 = time.time()\n",
    "hog_extract_time = round(t2-t, 2)\n",
    "print(hog_extract_time, 'Seconds to extract HOG features...')"
   ]
  },
  {
   "cell_type": "markdown",
   "metadata": {},
   "source": [
    "##### Prepare the data for the classifier\n",
    "create features and labels array, split up data randomly and normalize the data"
   ]
  },
  {
   "cell_type": "code",
   "execution_count": null,
   "metadata": {},
   "outputs": [],
   "source": [
    "# Create an array stack of feature vectors\n",
    "X = np.vstack((car_features, notcar_features)).astype(np.float64)\n",
    "# Define the labels vector\n",
    "y = np.hstack((np.ones(len(car_features)), np.zeros(len(notcar_features))))\n",
    "# Split up data into randomized training and test sets\n",
    "rand_state = np.random.randint(0, 100)\n",
    "X_train, X_test, y_train, y_test = train_test_split(\n",
    "    X, y, test_size=0.2, random_state=rand_state)\n",
    "# Fit a per-column scaler\n",
    "X_scaler = StandardScaler().fit(X_train)\n",
    "# Apply the scaler to X\n",
    "X_train = X_scaler.transform(X_train)\n",
    "X_test = X_scaler.transform(X_test)"
   ]
  },
  {
   "cell_type": "markdown",
   "metadata": {},
   "source": [
    "##### Apply a linear SVM classifier"
   ]
  },
  {
   "cell_type": "code",
   "execution_count": null,
   "metadata": {},
   "outputs": [],
   "source": [
    "svc = LinearSVC()\n",
    "# Check the training time for the SVC\n",
    "t=time.time()\n",
    "svc.fit(X_train, y_train)\n",
    "t2 = time.time()\n",
    "training_time = round(t2-t, 2)\n",
    "score = round(svc.score(X_test, y_test), 4)"
   ]
  },
  {
   "cell_type": "code",
   "execution_count": null,
   "metadata": {},
   "outputs": [],
   "source": [
    "print(\"| Colorspace | Orient | P/C | C/B | Channel | Extraction time | Training time | Accuracy |\")\n",
    "print(\"|:---:|:---:|:---:|:---:|:---:|:---:|:---:|:---:|\")\n",
    "print(\"| %s | %d | %d | %d | %s | %.2fs | %.2fs | %.2f |\" % (colorspace, orient, pix_per_cell, cell_per_block, str(hog_channel), hog_extract_time, training_time, score))\n"
   ]
  },
  {
   "cell_type": "markdown",
   "metadata": {},
   "source": [
    "###### Loop over possible colorspaces and channels parameter combinations"
   ]
  },
  {
   "cell_type": "code",
   "execution_count": null,
   "metadata": {},
   "outputs": [],
   "source": [
    "if 0:\n",
    "    orient = 9\n",
    "    pix_per_cell = 8\n",
    "    cell_per_block = 2\n",
    "\n",
    "    for cs in [\"LUV\", \"HLS\", \"YUV\", \"YCrCb\"]: #[\"RGB\", \"HSV\", \"LUV\", \"HLS\", \"YUV\", \"YCrCb\"]:\n",
    "        for ch in [0, 1, 2, \"ALL\"]:\n",
    "            try:\n",
    "                colorspace = cs\n",
    "                hog_channel = ch\n",
    "                t=time.time()\n",
    "\n",
    "                car_features = extract_features(cars, cspace=colorspace, orient=orient, \n",
    "                                        pix_per_cell=pix_per_cell, cell_per_block=cell_per_block, \n",
    "                                        hog_channel=hog_channel)\n",
    "                notcar_features = extract_features(notcars, cspace=colorspace, orient=orient, \n",
    "                                        pix_per_cell=pix_per_cell, cell_per_block=cell_per_block, \n",
    "                                        hog_channel=hog_channel)\n",
    "\n",
    "                t2 = time.time()\n",
    "                hog_extract_time = round(t2-t, 2)\n",
    "                # Create an array stack of feature vectors\n",
    "                X = np.vstack((car_features, notcar_features)).astype(np.float64)\n",
    "                # Define the labels vector\n",
    "                y = np.hstack((np.ones(len(car_features)), np.zeros(len(notcar_features))))\n",
    "                # Split up data into randomized training and test sets\n",
    "                rand_state = np.random.randint(0, 100)\n",
    "                X_train, X_test, y_train, y_test = train_test_split(\n",
    "                    X, y, test_size=0.2, random_state=rand_state)\n",
    "                # Fit a per-column scaler\n",
    "                X_scaler = StandardScaler().fit(X_train)\n",
    "                # Apply the scaler to X\n",
    "                X_train = X_scaler.transform(X_train)\n",
    "                X_test = X_scaler.transform(X_test)\n",
    "                svc = LinearSVC()\n",
    "                # Check the training time for the SVC\n",
    "                t=time.time()\n",
    "                svc.fit(X_train, y_train)\n",
    "                t2 = time.time()\n",
    "                training_time = round(t2-t, 2)\n",
    "                score = round(svc.score(X_test, y_test), 4)\n",
    "                print(\"| %s | %d | %d | %d | %s | %.2fs | %.2fs | %.2f |\" % (cs, orient, pix_per_cell, cell_per_block, str(ch), hog_extract_time, training_time, score))\n",
    "            except :\n",
    "                print(\"Failed because of:\")\n",
    "                import sys\n",
    "                print(sys.exc_info()[0])"
   ]
  },
  {
   "cell_type": "code",
   "execution_count": null,
   "metadata": {},
   "outputs": [],
   "source": [
    "if 0:\n",
    "    colorspace = \"YCrCb\"\n",
    "    hog_channel = \"ALL\"\n",
    "    orient = 9\n",
    "    pix_per_cell = 8\n",
    "    cell_per_block = 2\n",
    "\n",
    "    for o in [8, 10]: \n",
    "        for pc in [10, 12]:\n",
    "            for cb in [4, 6]:\n",
    "                try:\n",
    "                    orient = o\n",
    "                    pix_per_cell = pc\n",
    "                    cell_per_block = cb\n",
    "\n",
    "                    t=time.time()\n",
    "\n",
    "                    car_features = extract_features(cars, cspace=colorspace, orient=orient, \n",
    "                                            pix_per_cell=pix_per_cell, cell_per_block=cell_per_block, \n",
    "                                            hog_channel=hog_channel)\n",
    "                    notcar_features = extract_features(notcars, cspace=colorspace, orient=orient, \n",
    "                                            pix_per_cell=pix_per_cell, cell_per_block=cell_per_block, \n",
    "                                            hog_channel=hog_channel)\n",
    "\n",
    "                    t2 = time.time()\n",
    "                    hog_extract_time = round(t2-t, 2)\n",
    "                    # Create an array stack of feature vectors\n",
    "                    X = np.vstack((car_features, notcar_features)).astype(np.float64)\n",
    "                    # Define the labels vector\n",
    "                    y = np.hstack((np.ones(len(car_features)), np.zeros(len(notcar_features))))\n",
    "                    # Split up data into randomized training and test sets\n",
    "                    rand_state = np.random.randint(0, 100)\n",
    "                    X_train, X_test, y_train, y_test = train_test_split(\n",
    "                        X, y, test_size=0.2, random_state=rand_state)\n",
    "                    # Fit a per-column scaler\n",
    "                    X_scaler = StandardScaler().fit(X_train)\n",
    "                    # Apply the scaler to X\n",
    "                    X_train = X_scaler.transform(X_train)\n",
    "                    X_test = X_scaler.transform(X_test)\n",
    "                    svc = LinearSVC()\n",
    "                    # Check the training time for the SVC\n",
    "                    t=time.time()\n",
    "                    svc.fit(X_train, y_train)\n",
    "                    t2 = time.time()\n",
    "                    training_time = round(t2-t, 2)\n",
    "                    score = round(svc.score(X_test, y_test), 4)\n",
    "                    print(\"| %s | %d | %d | %d | %s | %.2fs | %.2fs | %.2f |\" % (colorspace, o, pc, cb, str(hog_channel), hog_extract_time, training_time, score))\n",
    "                except :\n",
    "                    print(\"Failed because of:\")\n",
    "                    import sys\n",
    "                    print(sys.exc_info()[0])"
   ]
  },
  {
   "cell_type": "markdown",
   "metadata": {},
   "source": [
    "#### Final classifier\n",
    "Based on the benchmark above, the following combination is selected:\n",
    "- orientation = 10\n",
    "- pixels per cell = 10\n",
    "- cells per blocks = 6\n",
    "- colorspace = YCrCb"
   ]
  },
  {
   "cell_type": "code",
   "execution_count": null,
   "metadata": {},
   "outputs": [],
   "source": [
    "if 0:\n",
    "    colorspace = \"YCrCb\"\n",
    "    hog_channel = \"ALL\"\n",
    "    orient = 10\n",
    "    pix_per_cell = 10\n",
    "    cell_per_block =6\n",
    "\n",
    "    sample_size = 3000\n",
    "    cars = car_dataset[0:sample_size]\n",
    "    notcars = noncar_dataset[0:sample_size]\n",
    "\n",
    "    car_features = extract_features(cars, cspace=colorspace, orient=orient, \n",
    "                            pix_per_cell=pix_per_cell, cell_per_block=cell_per_block, \n",
    "                            hog_channel=hog_channel)\n",
    "    notcar_features = extract_features(notcars, cspace=colorspace, orient=orient, \n",
    "                            pix_per_cell=pix_per_cell, cell_per_block=cell_per_block, \n",
    "                            hog_channel=hog_channel)\n",
    "    # Create an array stack of feature vectors\n",
    "    X = np.vstack((car_features, notcar_features)).astype(np.float64)\n",
    "    # Define the labels vector\n",
    "    y = np.hstack((np.ones(len(car_features)), np.zeros(len(notcar_features))))\n",
    "    # Split up data into randomized training and test sets\n",
    "    rand_state = np.random.randint(0, 100)\n",
    "    X_train, X_test, y_train, y_test = train_test_split(\n",
    "    X, y, test_size=0.2, random_state=rand_state)\n",
    "    # Fit a per-column scaler\n",
    "    X_scaler = StandardScaler().fit(X_train)\n",
    "    # Apply the scaler to X\n",
    "    X_train = X_scaler.transform(X_train)\n",
    "    X_test = X_scaler.transform(X_test)\n",
    "    svc = LinearSVC()\n",
    "    # Check the training time for the SVC\n",
    "    svc.fit(X_train, y_train)\n",
    "    score = round(svc.score(X_test, y_test), 4)\n",
    "    print(\"Feature shape\", X_train[0].shape)\n",
    "    print(score)"
   ]
  },
  {
   "cell_type": "code",
   "execution_count": null,
   "metadata": {},
   "outputs": [],
   "source": [
    "#print(X_test[0].reshape(1,-1).shape)\n",
    "#print(svc.predict(X_test[0].reshape(1,-1)))"
   ]
  },
  {
   "cell_type": "code",
   "execution_count": null,
   "metadata": {},
   "outputs": [],
   "source": [
    "# Pickle classifier\n",
    "import pickle\n",
    "import os\n",
    "pickle_dat = os.path.join(os.getcwd(), r\"svc.p\")\n",
    "if os.path.isfile(pickle_dat):\n",
    "    print(\"data available\")\n",
    "else:\n",
    "    print(\"no file, saving classifier\")\n",
    "    data = {}\n",
    "    data[\"Classifier\"] = svc\n",
    "    data[\"Scaler\"] = X_scaler\n",
    "    data[\"Orientation\"] = orient\n",
    "    data[\"Pixels_per_cell\"] = pix_per_cell\n",
    "    data[\"Cells_per_block\"] = cell_per_block\n",
    "    pickle.dump( data, open( pickle_dat, \"wb\" ) )\n",
    "\n",
    "# Test loading classifier\n",
    "data = pickle.load(open( pickle_dat, \"rb\" ))\n",
    "svc = data[\"Classifier\"]\n",
    "print(\"predicted\", svc.predict(X_test[0:5]))\n",
    "print(\"labeled\", y_test[0:5])"
   ]
  },
  {
   "cell_type": "markdown",
   "metadata": {},
   "source": [
    "Now that the detection part is dealt with, we need to implement the sliding window search on real images."
   ]
  },
  {
   "cell_type": "markdown",
   "metadata": {},
   "source": [
    "### Sliding window search"
   ]
  },
  {
   "cell_type": "code",
   "execution_count": null,
   "metadata": {},
   "outputs": [],
   "source": [
    "def slide_window(img, x_start_stop=[None, None], y_start_stop=[None, None], \n",
    "                    xy_window=(64, 64), xy_overlap=(0.5, 0.5)):\n",
    "    # If x and/or y start/stop positions not defined, set to image size\n",
    "    if x_start_stop[0] == None:\n",
    "        x_start_stop[0] = 0\n",
    "    if x_start_stop[1] == None:\n",
    "        x_start_stop[1] = img.shape[1]\n",
    "    if y_start_stop[0] == None:\n",
    "        y_start_stop[0] = 0\n",
    "    if y_start_stop[1] == None:\n",
    "        y_start_stop[1] = img.shape[0]\n",
    "    # Compute the span of the region to be searched    \n",
    "    xspan = x_start_stop[1] - x_start_stop[0]\n",
    "    yspan = y_start_stop[1] - y_start_stop[0]\n",
    "    # Compute the number of pixels per step in x/y\n",
    "    nx_pix_per_step = np.int(xy_window[0]*(1 - xy_overlap[0]))\n",
    "    ny_pix_per_step = np.int(xy_window[1]*(1 - xy_overlap[1]))\n",
    "    # Compute the number of windows in x/y\n",
    "    nx_buffer = np.int(xy_window[0]*(xy_overlap[0]))\n",
    "    ny_buffer = np.int(xy_window[1]*(xy_overlap[1]))\n",
    "    nx_windows = np.int((xspan-nx_buffer)/nx_pix_per_step) \n",
    "    ny_windows = np.int((yspan-ny_buffer)/ny_pix_per_step) \n",
    "    # Initialize a list to append window positions to\n",
    "    window_list = []\n",
    "    # Loop through finding x and y window positions\n",
    "    # Note: you could vectorize this step, but in practice\n",
    "    # you'll be considering windows one by one with your\n",
    "    # classifier, so looping makes sense\n",
    "    for ys in range(ny_windows):\n",
    "        for xs in range(nx_windows):\n",
    "            # Calculate window position\n",
    "            startx = xs*nx_pix_per_step + x_start_stop[0]\n",
    "            endx = startx + xy_window[0]\n",
    "            starty = ys*ny_pix_per_step + y_start_stop[0]\n",
    "            endy = starty + xy_window[1]\n",
    "            \n",
    "            # Append window position to list\n",
    "            window_list.append(((startx, starty), (endx, endy)))\n",
    "    # Return the list of windows\n",
    "    return window_list"
   ]
  },
  {
   "cell_type": "code",
   "execution_count": null,
   "metadata": {},
   "outputs": [],
   "source": [
    "def find_cars(img, ystart, ystop, scale, svc, X_scaler, orient, pix_per_cell, cell_per_block):\n",
    "    hits = []\n",
    "    draw_img = np.copy(img)\n",
    "    img = img.astype(np.float32)/255\n",
    "    \n",
    "    img_tosearch = img[ystart:ystop,:,:]\n",
    "    ctrans_tosearch = cv2.cvtColor(img_tosearch, cv2.COLOR_RGB2YCrCb)\n",
    "    if scale != 1:\n",
    "        imshape = ctrans_tosearch.shape\n",
    "        ctrans_tosearch = cv2.resize(ctrans_tosearch, (np.int(imshape[1]/scale), np.int(imshape[0]/scale)))\n",
    "        \n",
    "    ch1 = ctrans_tosearch[:,:,0]\n",
    "    ch2 = ctrans_tosearch[:,:,1]\n",
    "    ch3 = ctrans_tosearch[:,:,2]\n",
    "\n",
    "    # Define blocks and steps as above\n",
    "    nxblocks = (ch1.shape[1] // pix_per_cell) - cell_per_block + 1\n",
    "    nyblocks = (ch1.shape[0] // pix_per_cell) - cell_per_block + 1 \n",
    "    nfeat_per_block = orient*cell_per_block**2\n",
    "    \n",
    "    # 64 was the orginal sampling rate, with 8 cells and 8 pix per cell\n",
    "    window = 64\n",
    "    nblocks_per_window = (window // pix_per_cell) - cell_per_block + 1\n",
    "    cells_per_step = 1  # Instead of overlap, define how many cells to step\n",
    "    nxsteps = (nxblocks - nblocks_per_window) // cells_per_step + 1\n",
    "    nysteps = (nyblocks - nblocks_per_window) // cells_per_step + 1\n",
    "    \n",
    "    # Compute individual channel HOG features for the entire image\n",
    "    hog1 = get_hog_features(ch1, orient, pix_per_cell, cell_per_block, feature_vec=False)\n",
    "    hog2 = get_hog_features(ch2, orient, pix_per_cell, cell_per_block, feature_vec=False)\n",
    "    hog3 = get_hog_features(ch3, orient, pix_per_cell, cell_per_block, feature_vec=False)\n",
    "    \n",
    "    for xb in range(nxsteps):\n",
    "        for yb in range(nysteps):\n",
    "            ypos = yb*cells_per_step\n",
    "            xpos = xb*cells_per_step\n",
    "            # Extract HOG for this patch\n",
    "            hog_feat1 = hog1[ypos:ypos+nblocks_per_window, xpos:xpos+nblocks_per_window].ravel() \n",
    "            hog_feat2 = hog2[ypos:ypos+nblocks_per_window, xpos:xpos+nblocks_per_window].ravel() \n",
    "            hog_feat3 = hog3[ypos:ypos+nblocks_per_window, xpos:xpos+nblocks_per_window].ravel() \n",
    "            hog_features = np.hstack((hog_feat1, hog_feat2, hog_feat3))\n",
    "\n",
    "            xleft = xpos*pix_per_cell\n",
    "            ytop = ypos*pix_per_cell\n",
    "\n",
    "            test_prediction = svc.predict(hog_features.reshape(1,-1))\n",
    "            \n",
    "            if test_prediction == 1:\n",
    "                xbox_left = np.int(xleft*scale)\n",
    "                ytop_draw = np.int(ytop*scale)\n",
    "                win_draw = np.int(window*scale)\n",
    "                hits.append(((xbox_left, ytop_draw+ystart),(xbox_left+win_draw,ytop_draw+win_draw+ystart)))\n",
    "                #cv2.rectangle(draw_img,(xbox_left, ytop_draw+ystart),(xbox_left+win_draw,ytop_draw+win_draw+ystart),(0,0,255),6) \n",
    "                \n",
    "    return hits"
   ]
  },
  {
   "cell_type": "code",
   "execution_count": null,
   "metadata": {},
   "outputs": [],
   "source": [
    "# Load params from pickle file\n",
    "svc = data[\"Classifier\"]\n",
    "X_scaler = data[\"Scaler\"]\n",
    "orient = data[\"Orientation\"]\n",
    "pix_per_cell = data[\"Pixels_per_cell\"]\n",
    "cell_per_block = data[\"Cells_per_block\"]\n",
    "# Define Region of interest: only the lower part of the image is expected to have vehicles\n",
    "#ystart = 400\n",
    "#ystop = 656\n",
    "#scale = 1.5\n",
    "test_images = glob.glob(TEST_IMAGES + '/*.jpg')\n",
    "for image_name in test_images:\n",
    "    image = mpimg.imread(image_name)\n",
    "    draw_img = np.copy(image)\n",
    "    # Rescale because training was done on png images\n",
    "    image = image.astype(np.float32)/255\n",
    "    #hits = find_cars(image, 400, 656, 1.5, svc, X_scaler, orient, pix_per_cell, cell_per_block)\n",
    "    #for hit in hits:\n",
    "    #    cv2.rectangle(draw_img, hit[0], hit[1],(0,0,255),6) \n",
    "    hits_far = find_cars(draw_img, 400, 550, 1.2, svc, X_scaler, orient, pix_per_cell, cell_per_block)\n",
    "    hits_near = find_cars(draw_img, 550, 656, 2.0, svc, X_scaler, orient, pix_per_cell, cell_per_block)\n",
    "    for hit in (hits_far + hits_near):\n",
    "        cv2.rectangle(draw_img, hit[0], hit[1], (0,0,255), 6) \n",
    "    plt.imshow(draw_img)\n",
    "    plt.savefig(os.path.join(OUTPUT_IMAGES, image_name.split('\\\\')[-1]), dpi=500, bbox_inches='tight')\n",
    "    "
   ]
  },
  {
   "cell_type": "markdown",
   "metadata": {},
   "source": [
    "#### Heat map"
   ]
  },
  {
   "cell_type": "code",
   "execution_count": null,
   "metadata": {},
   "outputs": [],
   "source": [
    "def add_heat(heatmap, bbox_list):\n",
    "    # Iterate through list of bboxes\n",
    "    for box in bbox_list:\n",
    "        # Add += 1 for all pixels inside each bbox\n",
    "        # Assuming each \"box\" takes the form ((x1, y1), (x2, y2))\n",
    "        heatmap[box[0][1]:box[1][1], box[0][0]:box[1][0]] += 1\n",
    "\n",
    "    # Return updated heatmap\n",
    "    return heatmap# Iterate through list of bboxes\n",
    "    \n",
    "def apply_threshold(heatmap, threshold):\n",
    "    # Zero out pixels below the threshold\n",
    "    heatmap[heatmap <= threshold] = 0\n",
    "    # Return thresholded map\n",
    "    return heatmap\n",
    "\n",
    "def draw_labeled_bboxes(img, labels):\n",
    "    # Iterate through all detected cars\n",
    "    for car_number in range(1, labels[1]+1):\n",
    "        # Find pixels with each car_number label value\n",
    "        nonzero = (labels[0] == car_number).nonzero()\n",
    "        # Identify x and y values of those pixels\n",
    "        nonzeroy = np.array(nonzero[0])\n",
    "        nonzerox = np.array(nonzero[1])\n",
    "        # Define a bounding box based on min/max x and y\n",
    "        bbox = ((np.min(nonzerox), np.min(nonzeroy)), (np.max(nonzerox), np.max(nonzeroy)))\n",
    "        # Draw the box on the image\n",
    "        cv2.rectangle(img, bbox[0], bbox[1], (0,0,255), 6)\n",
    "    # Return the image\n",
    "    return img"
   ]
  },
  {
   "cell_type": "code",
   "execution_count": null,
   "metadata": {},
   "outputs": [],
   "source": [
    "from scipy.ndimage.measurements import label\n",
    "test_images = glob.glob(TEST_IMAGES + '/*.jpg')\n",
    "for image_name in test_images:\n",
    "    image = mpimg.imread(image_name)\n",
    "\n",
    "    draw_img = np.copy(image)\n",
    "\n",
    "    heat = np.zeros_like(image[:,:,0]).astype(np.float)\n",
    "\n",
    "    image = image.astype(np.float32)/255\n",
    "\n",
    "    hits_far = find_cars(draw_img, 400, 550, 1.2, svc, X_scaler, orient, pix_per_cell, cell_per_block)\n",
    "    hits_mid = find_cars(draw_img, 400, 480, 0.5, svc, X_scaler, orient, pix_per_cell, cell_per_block)\n",
    "    hits_near = find_cars(draw_img, 550, 656, 2.0, svc, X_scaler, orient, pix_per_cell, cell_per_block)\n",
    "    box_list = hits_near + hits_mid + hits_far\n",
    "\n",
    "    # Add heat to each box in box list\n",
    "    heat = add_heat(heat,box_list)\n",
    "\n",
    "    # Apply threshold to help remove false positives\n",
    "    heat = apply_threshold(heat,1)\n",
    "\n",
    "    # Visualize the heatmap when displaying    \n",
    "    heatmap = np.clip(heat, 0, 255)\n",
    "\n",
    "    # Find final boxes from heatmap using label function\n",
    "    labels = label(heatmap)\n",
    "    draw_img = draw_labeled_bboxes(np.copy(image), labels)\n",
    "\n",
    "    fig = plt.figure()\n",
    "    plt.subplot(121)\n",
    "    plt.imshow(draw_img)\n",
    "    plt.title('Car Positions')\n",
    "    plt.subplot(122)\n",
    "    plt.imshow(heatmap, cmap='hot')\n",
    "    plt.title('Heat Map')\n",
    "    fig.tight_layout()\n",
    "    plt.savefig(os.path.join(OUTPUT_IMAGES, image_name.split('\\\\')[-1].replace('.jpg', '_heatmap.jpg')), dpi=500, bbox_inches='tight')\n"
   ]
  },
  {
   "cell_type": "code",
   "execution_count": 8,
   "metadata": {},
   "outputs": [],
   "source": [
    "class Car(object):\n",
    "\n",
    "    def __init__(self, bbox):\n",
    "        self.boundingbox = bbox\n",
    "        self.age = 1\n",
    "        self.drops = 0\n",
    "        \n",
    "    def getAge(self):\n",
    "        return self.age\n",
    "    \n",
    "    def getDrops(self):\n",
    "        return self.drops\n",
    "    \n",
    "    def getPosition(self):\n",
    "        return self.boundingbox\n",
    "    "
   ]
  },
  {
   "cell_type": "markdown",
   "metadata": {},
   "source": [
    "#### Consolidated pipeline"
   ]
  },
  {
   "cell_type": "code",
   "execution_count": 9,
   "metadata": {},
   "outputs": [],
   "source": [
    "# Don't forget to load the classifier data!\n",
    "import pickle\n",
    "from scipy.ndimage.measurements import label\n",
    "\n",
    "pickle_dat = os.path.join(os.getcwd(), r\"svc.p\")\n",
    "    \n",
    "data = pickle.load(open( pickle_dat, \"rb\" ))\n",
    "\n",
    "svc = data[\"Classifier\"]\n",
    "X_scaler = data[\"Scaler\"]\n",
    "orient = data[\"Orientation\"]\n",
    "pix_per_cell = data[\"Pixels_per_cell\"]\n",
    "cell_per_block = data[\"Cells_per_block\"]\n",
    "\n",
    "def get_hog_features(img, orient=9, pix_per_cell=8, cell_per_block=2, \n",
    "                        vis=False, feature_vec=True):\n",
    "    # Call with two outputs if vis==True\n",
    "    if vis == True:\n",
    "        features, hog_image = hog(img, orientations=orient, pixels_per_cell=(pix_per_cell, pix_per_cell),\n",
    "                                  cells_per_block=(cell_per_block, cell_per_block), block_norm= 'L2-Hys',\n",
    "                                  transform_sqrt=True, \n",
    "                                  visualise=vis, feature_vector=feature_vec)\n",
    "        return features, hog_image\n",
    "    # Otherwise call with one output\n",
    "    else:      \n",
    "        features = hog(img, orientations=orient, pixels_per_cell=(pix_per_cell, pix_per_cell),\n",
    "                       cells_per_block=(cell_per_block, cell_per_block), block_norm= 'L2-Hys',\n",
    "                       transform_sqrt=True, \n",
    "                       visualise=vis, feature_vector=feature_vec)\n",
    "        return features\n",
    "    \n",
    "def find_cars(img, ystart, ystop, scale, svc, X_scaler, orient, pix_per_cell, cell_per_block):\n",
    "    hits = []\n",
    "    draw_img = np.copy(img)\n",
    "    img = img.astype(np.float32)/255\n",
    "    \n",
    "    img_tosearch = img[ystart:ystop,:,:]\n",
    "    ctrans_tosearch = cv2.cvtColor(img_tosearch, cv2.COLOR_RGB2YCrCb)\n",
    "    if scale != 1:\n",
    "        imshape = ctrans_tosearch.shape\n",
    "        ctrans_tosearch = cv2.resize(ctrans_tosearch, (np.int(imshape[1]/scale), np.int(imshape[0]/scale)))\n",
    "        \n",
    "    ch1 = ctrans_tosearch[:,:,0]\n",
    "    ch2 = ctrans_tosearch[:,:,1]\n",
    "    ch3 = ctrans_tosearch[:,:,2]\n",
    "\n",
    "    # Define blocks and steps as above\n",
    "    nxblocks = (ch1.shape[1] // pix_per_cell) - cell_per_block + 1\n",
    "    nyblocks = (ch1.shape[0] // pix_per_cell) - cell_per_block + 1 \n",
    "    nfeat_per_block = orient*cell_per_block**2\n",
    "    \n",
    "    # 64 was the orginal sampling rate, with 8 cells and 8 pix per cell\n",
    "    window = 64\n",
    "    nblocks_per_window = (window // pix_per_cell) - cell_per_block + 1\n",
    "    cells_per_step = 1  # Instead of overlap, define how many cells to step\n",
    "    nxsteps = (nxblocks - nblocks_per_window) // cells_per_step + 1\n",
    "    nysteps = (nyblocks - nblocks_per_window) // cells_per_step + 1\n",
    "    \n",
    "    # Compute individual channel HOG features for the entire image\n",
    "    hog1 = get_hog_features(ch1, orient, pix_per_cell, cell_per_block, feature_vec=False)\n",
    "    hog2 = get_hog_features(ch2, orient, pix_per_cell, cell_per_block, feature_vec=False)\n",
    "    hog3 = get_hog_features(ch3, orient, pix_per_cell, cell_per_block, feature_vec=False)\n",
    "    \n",
    "    for xb in range(nxsteps):\n",
    "        for yb in range(nysteps):\n",
    "            ypos = yb*cells_per_step\n",
    "            xpos = xb*cells_per_step\n",
    "            # Extract HOG for this patch\n",
    "            hog_feat1 = hog1[ypos:ypos+nblocks_per_window, xpos:xpos+nblocks_per_window].ravel() \n",
    "            hog_feat2 = hog2[ypos:ypos+nblocks_per_window, xpos:xpos+nblocks_per_window].ravel() \n",
    "            hog_feat3 = hog3[ypos:ypos+nblocks_per_window, xpos:xpos+nblocks_per_window].ravel() \n",
    "            hog_features = np.hstack((hog_feat1, hog_feat2, hog_feat3))\n",
    "\n",
    "            xleft = xpos*pix_per_cell\n",
    "            ytop = ypos*pix_per_cell\n",
    "\n",
    "            test_prediction = svc.predict(hog_features.reshape(1,-1))\n",
    "            \n",
    "            if test_prediction == 1:\n",
    "                xbox_left = np.int(xleft*scale)\n",
    "                ytop_draw = np.int(ytop*scale)\n",
    "                win_draw = np.int(window*scale)\n",
    "                hits.append(((xbox_left, ytop_draw+ystart),(xbox_left+win_draw,ytop_draw+win_draw+ystart)))\n",
    "                #cv2.rectangle(draw_img,(xbox_left, ytop_draw+ystart),(xbox_left+win_draw,ytop_draw+win_draw+ystart),(0,0,255),6) \n",
    "                \n",
    "    return hits\n",
    "\n",
    "def add_heat(heatmap, bbox_list):\n",
    "    # Iterate through list of bboxes\n",
    "    for box in bbox_list:\n",
    "        # Add += 1 for all pixels inside each bbox\n",
    "        # Assuming each \"box\" takes the form ((x1, y1), (x2, y2))\n",
    "        heatmap[box[0][1]:box[1][1], box[0][0]:box[1][0]] += 1\n",
    "\n",
    "    # Return updated heatmap\n",
    "    return heatmap# Iterate through list of bboxes\n",
    "    \n",
    "def apply_threshold(heatmap, threshold):\n",
    "    # Zero out pixels below the threshold\n",
    "    heatmap[heatmap <= threshold] = 0\n",
    "    # Return thresholded map\n",
    "    return heatmap\n",
    "\n",
    "def get_labeled_bboxes(labels):\n",
    "    # Iterate through all detected cars\n",
    "    bboxes = []\n",
    "    for car_number in range(1, labels[1]+1):\n",
    "        # Find pixels with each car_number label value\n",
    "        nonzero = (labels[0] == car_number).nonzero()\n",
    "        # Identify x and y values of those pixels\n",
    "        nonzeroy = np.array(nonzero[0])\n",
    "        nonzerox = np.array(nonzero[1])\n",
    "        # Define a bounding box based on min/max x and y\n",
    "        bbox = ((np.min(nonzerox), np.min(nonzeroy)), (np.max(nonzerox), np.max(nonzeroy)))\n",
    "        bboxes.append(bbox)\n",
    "        # Draw the box on the image\n",
    "    # Return the image\n",
    "    return bboxes\n",
    "\n",
    "\n",
    "def processImage(img):\n",
    "    \"\"\" image pipeline\n",
    "    \"\"\"\n",
    "    Cars = []\n",
    "    draw_img = np.copy(img)\n",
    "    heat = np.zeros_like(img[:,:,0]).astype(np.float)\n",
    "    img = img.astype(np.float32)/255\n",
    "\n",
    "    hits_far = find_cars(draw_img, 400, 550, 1.2, svc, X_scaler, orient, pix_per_cell, cell_per_block)\n",
    "    hits_near = find_cars(draw_img, 550, 656, 2.0, svc, X_scaler, orient, pix_per_cell, cell_per_block)\n",
    "    box_list = hits_far + hits_near\n",
    "\n",
    "    # Add heat to each box in box list\n",
    "    heat = add_heat(heat,box_list)\n",
    "\n",
    "    # Apply threshold to help remove false positives\n",
    "    heat = apply_threshold(heat,0.5)\n",
    "\n",
    "    # Visualize the heatmap when displaying    \n",
    "    heatmap = np.clip(heat, 0, 255)\n",
    "\n",
    "    # Find final boxes from heatmap using label function\n",
    "    labels = label(heatmap)\n",
    "    bboxes = get_labeled_bboxes(labels)\n",
    "    for hit in bboxes:\n",
    "        Cars.append(Car(hit))\n",
    "        cv2.rectangle(draw_img, hit[0], hit[1], (0,0,255), 6)\n",
    "    \n",
    "    return draw_img, Cars"
   ]
  },
  {
   "cell_type": "code",
   "execution_count": 10,
   "metadata": {},
   "outputs": [
    {
     "data": {
      "text/plain": [
       "<matplotlib.image.AxesImage at 0x19c5b12db00>"
      ]
     },
     "execution_count": 10,
     "metadata": {},
     "output_type": "execute_result"
    },
    {
     "data": {
      "image/png": "[encoded data removed]",
      "text/plain": [
       "<matplotlib.figure.Figure at 0x19c5a8addd8>"
      ]
     },
     "metadata": {},
     "output_type": "display_data"
    }
   ],
   "source": [
    "image = mpimg.imread(TEST_IMAGES + r\"\\test3.jpg\")\n",
    "res, cars = processImage(image)\n",
    "plt.imshow(res)"
   ]
  },
  {
   "cell_type": "code",
   "execution_count": null,
   "metadata": {},
   "outputs": [],
   "source": [
    "print(len(cars))"
   ]
  },
  {
   "cell_type": "code",
   "execution_count": null,
   "metadata": {},
   "outputs": [],
   "source": [
    "print(cars[0].getPosition())"
   ]
  },
  {
   "cell_type": "markdown",
   "metadata": {},
   "source": [
    "### Videopipeline"
   ]
  },
  {
   "cell_type": "code",
   "execution_count": 11,
   "metadata": {},
   "outputs": [],
   "source": [
    "import matplotlib.image as mpimg\n",
    "from moviepy.editor import VideoFileClip\n",
    "from IPython.display import HTML\n",
    "import scipy"
   ]
  },
  {
   "cell_type": "code",
   "execution_count": 16,
   "metadata": {},
   "outputs": [],
   "source": [
    "# Lets try at first the pipeline, without any tracking of the cars. The goal is to get an idea of how robust the pipeline is at the moment\n",
    "def processVideoImage(img):\n",
    "    \"\"\" image pipeline\n",
    "    \"\"\"\n",
    "    draw_img = np.copy(img)\n",
    "    heat = np.zeros_like(img[:,:,0]).astype(np.float)\n",
    "    img = img.astype(np.float32)/255\n",
    "\n",
    "    hits_far = find_cars(draw_img, 400, 480, 0.9, svc, X_scaler, orient, pix_per_cell, cell_per_block)\n",
    "    hits_mid = find_cars(draw_img, 400, 550, 1.2, svc, X_scaler, orient, pix_per_cell, cell_per_block)\n",
    "    hits_near = find_cars(draw_img, 550, 656, 2.0, svc, X_scaler, orient, pix_per_cell, cell_per_block)\n",
    "    box_list = hits_far + hits_mid + hits_near\n",
    "    \n",
    "    #hits_far = find_cars(draw_img, 400, 550, 1.2, svc, X_scaler, orient, pix_per_cell, cell_per_block)\n",
    "    #hits_near = find_cars(draw_img, 550, 656, 2.0, svc, X_scaler, orient, pix_per_cell, cell_per_block)\n",
    "    #box_list = hits_far + hits_near\n",
    "\n",
    "    # Add heat to each box in box list\n",
    "    heat = add_heat(heat,box_list)\n",
    "\n",
    "    # Apply threshold to help remove false positives\n",
    "    heat = apply_threshold(heat,1.0)\n",
    "\n",
    "    # Visualize the heatmap when displaying    \n",
    "    heatmap = np.clip(heat, 0, 255)\n",
    "\n",
    "    # Find final boxes from heatmap using label function\n",
    "    labels = label(heatmap)\n",
    "    bboxes = get_labeled_bboxes(labels)\n",
    "    for hit in bboxes:\n",
    "        cv2.rectangle(draw_img, hit[0], hit[1], (0,0,255), 6)\n",
    "    \n",
    "    return draw_img"
   ]
  },
  {
   "cell_type": "code",
   "execution_count": 17,
   "metadata": {},
   "outputs": [
    {
     "name": "stdout",
     "output_type": "stream",
     "text": [
      "[MoviePy] >>>> Building video output_videos/project_video_notracking_farmidnear.mp4\n",
      "[MoviePy] Writing video output_videos/project_video_notracking_farmidnear.mp4\n"
     ]
    },
    {
     "name": "stderr",
     "output_type": "stream",
     "text": [
      "100%|█████████████████████████████████████████████████████████████████████████████████████████████████████████████████████▉| 1260/1261 [07:01<00:00,  2.97it/s]\n"
     ]
    },
    {
     "name": "stdout",
     "output_type": "stream",
     "text": [
      "[MoviePy] Done.\n",
      "[MoviePy] >>>> Video ready: output_videos/project_video_notracking_farmidnear.mp4 \n",
      "\n",
      "Wall time: 7min 1s\n"
     ]
    }
   ],
   "source": [
    "white_output = 'output_videos/project_video_notracking_farmidnear.mp4'\n",
    "clip1 = VideoFileClip(\"project_video.mp4\")\n",
    "white_clip = clip1.fl_image(processVideoImage)\n",
    "%time white_clip.write_videofile(white_output, audio=False)"
   ]
  },
  {
   "cell_type": "code",
   "execution_count": 15,
   "metadata": {},
   "outputs": [
    {
     "data": {
      "text/html": [
       "\n",
       "<video width=\"960\" height=\"540\" controls>\n",
       "  <source src=\"output_videos/project_video_notracking.mp4\">\n",
       "</video>\n"
      ],
      "text/plain": [
       "<IPython.core.display.HTML object>"
      ]
     },
     "execution_count": 15,
     "metadata": {},
     "output_type": "execute_result"
    }
   ],
   "source": [
    "HTML(\"\"\"\n",
    "<video width=\"960\" height=\"540\" controls>\n",
    "  <source src=\"{0}\">\n",
    "</video>\n",
    "\"\"\".format('output_videos/project_video_notracking.mp4'))"
   ]
  },
  {
   "cell_type": "markdown",
   "metadata": {},
   "source": [
    "We notice an issue with the detection of the white car overtaking us on the right side. The car is not detected for a long time. Let's tune the scaling parameter for the far field and see if it helps."
   ]
  },
  {
   "cell_type": "code",
   "execution_count": 14,
   "metadata": {},
   "outputs": [
    {
     "data": {
      "text/html": [
       "\n",
       "<video width=\"960\" height=\"540\" controls>\n",
       "  <source src=\"output_videos/project_video_notracking_farmidnear.mp4\">\n",
       "</video>\n"
      ],
      "text/plain": [
       "<IPython.core.display.HTML object>"
      ]
     },
     "execution_count": 14,
     "metadata": {},
     "output_type": "execute_result"
    }
   ],
   "source": [
    "HTML(\"\"\"\n",
    "<video width=\"960\" height=\"540\" controls>\n",
    "  <source src=\"{0}\">\n",
    "</video>\n",
    "\"\"\".format('output_videos/project_video_notracking_farmidnear.mp4'))"
   ]
  },
  {
   "cell_type": "code",
   "execution_count": null,
   "metadata": {},
   "outputs": [],
   "source": []
  }
 ],
 "metadata": {
  "kernelspec": {
   "display_name": "Python 3",
   "language": "python",
   "name": "python3"
  },
  "language_info": {
   "codemirror_mode": {
    "name": "ipython",
    "version": 3
   },
   "file_extension": ".py",
   "mimetype": "text/x-python",
   "name": "python",
   "nbconvert_exporter": "python",
   "pygments_lexer": "ipython3",
   "version": "3.5.2"
  },
  "widgets": {
   "state": {},
   "version": "1.1.2"
  }
 },
 "nbformat": 4,
 "nbformat_minor": 2
}
